{
 "cells": [
  {
   "cell_type": "code",
   "execution_count": 1,
   "id": "6c845900-e6de-4653-8ac2-17240b9fb8fa",
   "metadata": {
    "tags": []
   },
   "outputs": [],
   "source": [
    "import numpy as np\n",
    "import pandas as pd\n",
    "import matplotlib.pyplot as plt\n",
    "import seaborn as sns\n",
    "\n",
    "import warnings \n",
    "warnings.filterwarnings(\"ignore\")"
   ]
  },
  {
   "cell_type": "code",
   "execution_count": 2,
   "id": "25b40317-5bda-4481-b73c-53bd5e418ca3",
   "metadata": {
    "tags": []
   },
   "outputs": [],
   "source": [
    "from sklearn.preprocessing import LabelEncoder, OneHotEncoder"
   ]
  },
  {
   "cell_type": "code",
   "execution_count": 3,
   "id": "e9456263-69e4-4f41-bbb9-ec5dfc915e92",
   "metadata": {
    "tags": []
   },
   "outputs": [
    {
     "data": {
      "text/html": [
       "<div>\n",
       "<style scoped>\n",
       "    .dataframe tbody tr th:only-of-type {\n",
       "        vertical-align: middle;\n",
       "    }\n",
       "\n",
       "    .dataframe tbody tr th {\n",
       "        vertical-align: top;\n",
       "    }\n",
       "\n",
       "    .dataframe thead th {\n",
       "        text-align: right;\n",
       "    }\n",
       "</style>\n",
       "<table border=\"1\" class=\"dataframe\">\n",
       "  <thead>\n",
       "    <tr style=\"text-align: right;\">\n",
       "      <th></th>\n",
       "      <th>Gender</th>\n",
       "      <th>Age</th>\n",
       "      <th>Occupation</th>\n",
       "      <th>City_Category</th>\n",
       "      <th>Stay_In_Current_City_Years</th>\n",
       "      <th>Marital_Status</th>\n",
       "      <th>Product_Category_1</th>\n",
       "      <th>Product_Category_2</th>\n",
       "      <th>Product_Category_3</th>\n",
       "      <th>Purchase</th>\n",
       "    </tr>\n",
       "  </thead>\n",
       "  <tbody>\n",
       "    <tr>\n",
       "      <th>0</th>\n",
       "      <td>Female</td>\n",
       "      <td>0-17</td>\n",
       "      <td>10</td>\n",
       "      <td>A</td>\n",
       "      <td>2</td>\n",
       "      <td>Unmarried</td>\n",
       "      <td>3</td>\n",
       "      <td>17</td>\n",
       "      <td>15</td>\n",
       "      <td>8370</td>\n",
       "    </tr>\n",
       "    <tr>\n",
       "      <th>1</th>\n",
       "      <td>Female</td>\n",
       "      <td>0-17</td>\n",
       "      <td>10</td>\n",
       "      <td>A</td>\n",
       "      <td>2</td>\n",
       "      <td>Unmarried</td>\n",
       "      <td>1</td>\n",
       "      <td>5</td>\n",
       "      <td>11</td>\n",
       "      <td>15200</td>\n",
       "    </tr>\n",
       "    <tr>\n",
       "      <th>2</th>\n",
       "      <td>Female</td>\n",
       "      <td>0-17</td>\n",
       "      <td>10</td>\n",
       "      <td>A</td>\n",
       "      <td>2</td>\n",
       "      <td>Unmarried</td>\n",
       "      <td>12</td>\n",
       "      <td>17</td>\n",
       "      <td>2</td>\n",
       "      <td>1422</td>\n",
       "    </tr>\n",
       "    <tr>\n",
       "      <th>3</th>\n",
       "      <td>Female</td>\n",
       "      <td>0-17</td>\n",
       "      <td>10</td>\n",
       "      <td>A</td>\n",
       "      <td>2</td>\n",
       "      <td>Unmarried</td>\n",
       "      <td>12</td>\n",
       "      <td>13</td>\n",
       "      <td>7</td>\n",
       "      <td>1057</td>\n",
       "    </tr>\n",
       "    <tr>\n",
       "      <th>4</th>\n",
       "      <td>Male</td>\n",
       "      <td>55+</td>\n",
       "      <td>16</td>\n",
       "      <td>C</td>\n",
       "      <td>3+</td>\n",
       "      <td>Unmarried</td>\n",
       "      <td>8</td>\n",
       "      <td>6</td>\n",
       "      <td>8</td>\n",
       "      <td>7969</td>\n",
       "    </tr>\n",
       "    <tr>\n",
       "      <th>...</th>\n",
       "      <td>...</td>\n",
       "      <td>...</td>\n",
       "      <td>...</td>\n",
       "      <td>...</td>\n",
       "      <td>...</td>\n",
       "      <td>...</td>\n",
       "      <td>...</td>\n",
       "      <td>...</td>\n",
       "      <td>...</td>\n",
       "      <td>...</td>\n",
       "    </tr>\n",
       "    <tr>\n",
       "      <th>547512</th>\n",
       "      <td>Male</td>\n",
       "      <td>51-55</td>\n",
       "      <td>13</td>\n",
       "      <td>B</td>\n",
       "      <td>1</td>\n",
       "      <td>Married</td>\n",
       "      <td>20</td>\n",
       "      <td>17</td>\n",
       "      <td>1</td>\n",
       "      <td>368</td>\n",
       "    </tr>\n",
       "    <tr>\n",
       "      <th>547513</th>\n",
       "      <td>Female</td>\n",
       "      <td>26-35</td>\n",
       "      <td>1</td>\n",
       "      <td>C</td>\n",
       "      <td>3</td>\n",
       "      <td>Unmarried</td>\n",
       "      <td>20</td>\n",
       "      <td>9</td>\n",
       "      <td>1</td>\n",
       "      <td>371</td>\n",
       "    </tr>\n",
       "    <tr>\n",
       "      <th>547514</th>\n",
       "      <td>Female</td>\n",
       "      <td>26-35</td>\n",
       "      <td>15</td>\n",
       "      <td>B</td>\n",
       "      <td>3+</td>\n",
       "      <td>Married</td>\n",
       "      <td>20</td>\n",
       "      <td>8</td>\n",
       "      <td>7</td>\n",
       "      <td>137</td>\n",
       "    </tr>\n",
       "    <tr>\n",
       "      <th>547515</th>\n",
       "      <td>Female</td>\n",
       "      <td>55+</td>\n",
       "      <td>1</td>\n",
       "      <td>C</td>\n",
       "      <td>2</td>\n",
       "      <td>Unmarried</td>\n",
       "      <td>20</td>\n",
       "      <td>11</td>\n",
       "      <td>2</td>\n",
       "      <td>365</td>\n",
       "    </tr>\n",
       "    <tr>\n",
       "      <th>547516</th>\n",
       "      <td>Female</td>\n",
       "      <td>46-50</td>\n",
       "      <td>0</td>\n",
       "      <td>B</td>\n",
       "      <td>3+</td>\n",
       "      <td>Married</td>\n",
       "      <td>20</td>\n",
       "      <td>6</td>\n",
       "      <td>7</td>\n",
       "      <td>490</td>\n",
       "    </tr>\n",
       "  </tbody>\n",
       "</table>\n",
       "<p>547517 rows × 10 columns</p>\n",
       "</div>"
      ],
      "text/plain": [
       "        Gender    Age  Occupation City_Category Stay_In_Current_City_Years  \\\n",
       "0       Female   0-17          10             A                          2   \n",
       "1       Female   0-17          10             A                          2   \n",
       "2       Female   0-17          10             A                          2   \n",
       "3       Female   0-17          10             A                          2   \n",
       "4         Male    55+          16             C                         3+   \n",
       "...        ...    ...         ...           ...                        ...   \n",
       "547512    Male  51-55          13             B                          1   \n",
       "547513  Female  26-35           1             C                          3   \n",
       "547514  Female  26-35          15             B                         3+   \n",
       "547515  Female    55+           1             C                          2   \n",
       "547516  Female  46-50           0             B                         3+   \n",
       "\n",
       "       Marital_Status  Product_Category_1  Product_Category_2  \\\n",
       "0           Unmarried                   3                  17   \n",
       "1           Unmarried                   1                   5   \n",
       "2           Unmarried                  12                  17   \n",
       "3           Unmarried                  12                  13   \n",
       "4           Unmarried                   8                   6   \n",
       "...               ...                 ...                 ...   \n",
       "547512        Married                  20                  17   \n",
       "547513      Unmarried                  20                   9   \n",
       "547514        Married                  20                   8   \n",
       "547515      Unmarried                  20                  11   \n",
       "547516        Married                  20                   6   \n",
       "\n",
       "        Product_Category_3  Purchase  \n",
       "0                       15      8370  \n",
       "1                       11     15200  \n",
       "2                        2      1422  \n",
       "3                        7      1057  \n",
       "4                        8      7969  \n",
       "...                    ...       ...  \n",
       "547512                   1       368  \n",
       "547513                   1       371  \n",
       "547514                   7       137  \n",
       "547515                   2       365  \n",
       "547516                   7       490  \n",
       "\n",
       "[547517 rows x 10 columns]"
      ]
     },
     "execution_count": 3,
     "metadata": {},
     "output_type": "execute_result"
    }
   ],
   "source": [
    "df = pd.read_csv(\"./data/black_friday_dataset_cleaned.csv\")\n",
    "df"
   ]
  },
  {
   "cell_type": "code",
   "execution_count": 4,
   "id": "34e9fe63-7472-41a1-b5df-2c9a32d743bc",
   "metadata": {
    "tags": []
   },
   "outputs": [],
   "source": [
    "get_unique_values = lambda col: df[col].unique()"
   ]
  },
  {
   "cell_type": "code",
   "execution_count": 5,
   "id": "f0c9b24d-cb6c-4d74-ab1b-16b60d43b135",
   "metadata": {
    "tags": []
   },
   "outputs": [
    {
     "name": "stdout",
     "output_type": "stream",
     "text": [
      "Column Name: Gender\n",
      "Length: 2\n",
      "Unique Values: ['Female', 'Male']\n",
      "\n",
      "Column Name: Age\n",
      "Length: 7\n",
      "Unique Values: ['0-17', '18-25', '26-35', '36-45', '46-50', '51-55', '55+']\n",
      "\n",
      "Column Name: Occupation\n",
      "Length: 21\n",
      "Unique Values: [0, 1, 2, 3, 4, 5, 6, 7, 8, 9, 10, 11, 12, 13, 14, 15, 16, 17, 18, 19, 20]\n",
      "\n",
      "Column Name: City_Category\n",
      "Length: 3\n",
      "Unique Values: ['A', 'B', 'C']\n",
      "\n",
      "Column Name: Stay_In_Current_City_Years\n",
      "Length: 5\n",
      "Unique Values: ['0', '1', '2', '3', '3+']\n",
      "\n",
      "Column Name: Marital_Status\n",
      "Length: 2\n",
      "Unique Values: ['Married', 'Unmarried']\n",
      "\n",
      "Column Name: Product_Category_1\n",
      "Length: 20\n",
      "Unique Values: [1, 2, 3, 4, 5, 6, 7, 8, 9, 10, 11, 12, 13, 14, 15, 16, 17, 18, 19, 20]\n",
      "\n",
      "Column Name: Product_Category_2\n",
      "Length: 17\n",
      "Unique Values: [1, 2, 3, 4, 5, 6, 7, 8, 9, 10, 11, 12, 13, 14, 15, 16, 17]\n",
      "\n",
      "Column Name: Product_Category_3\n",
      "Length: 15\n",
      "Unique Values: [1, 2, 3, 4, 5, 6, 7, 8, 9, 10, 11, 12, 13, 14, 15]\n",
      "\n"
     ]
    }
   ],
   "source": [
    "for column_name in df.columns[:-1]:\n",
    "    print(f\"Column Name: {column_name}\")\n",
    "    print(f\"Length: {len(get_unique_values(column_name))}\")\n",
    "    print(f\"Unique Values: {sorted(get_unique_values(column_name))}\")\n",
    "    print()"
   ]
  },
  {
   "cell_type": "code",
   "execution_count": 6,
   "id": "d7819ea9-7957-4876-ae08-6029e9bab46a",
   "metadata": {
    "tags": []
   },
   "outputs": [],
   "source": [
    "def custom_label_encoder(col, dictionary): df[col] = df[col].map(dictionary)"
   ]
  },
  {
   "cell_type": "code",
   "execution_count": 7,
   "id": "44566901-57ea-4443-ad8d-95a05e049e76",
   "metadata": {
    "tags": []
   },
   "outputs": [],
   "source": [
    "custom_label_encoder('Occupation', {0: 1, 1:2, 2:3, 3:4, 4:5, 5:6, 6:7, 7:8, 8:9, 9:10, 10:11, 11:12, 12:13, 13:14, 14:15, 15:16, 16:17, 17:18, 18:19, 19:20, 20:21})"
   ]
  },
  {
   "cell_type": "code",
   "execution_count": 8,
   "id": "50c9239a-e090-4a8e-b7fb-ca17f8a26d64",
   "metadata": {
    "tags": []
   },
   "outputs": [],
   "source": [
    "# Making a copy of the original dataframe"
   ]
  },
  {
   "cell_type": "code",
   "execution_count": 9,
   "id": "54bb5687-9cea-4987-977e-5146c61c1601",
   "metadata": {
    "tags": []
   },
   "outputs": [],
   "source": [
    "# new_df = df.copy(deep=True)\n",
    "# new_df"
   ]
  },
  {
   "cell_type": "code",
   "execution_count": 10,
   "id": "f0b38502-07f0-4636-8c52-fc540207c88f",
   "metadata": {
    "tags": []
   },
   "outputs": [
    {
     "data": {
      "text/plain": [
       "Index(['Gender', 'Age', 'Occupation', 'City_Category',\n",
       "       'Stay_In_Current_City_Years', 'Marital_Status', 'Product_Category_1',\n",
       "       'Product_Category_2', 'Product_Category_3', 'Purchase'],\n",
       "      dtype='object')"
      ]
     },
     "execution_count": 10,
     "metadata": {},
     "output_type": "execute_result"
    }
   ],
   "source": [
    "df.columns"
   ]
  },
  {
   "cell_type": "code",
   "execution_count": 11,
   "id": "a319d0f8-2ad1-4ea8-811e-c2649866aed0",
   "metadata": {
    "tags": []
   },
   "outputs": [],
   "source": [
    "subset_for_one_hot_encoding = df[['Gender', 'Occupation', 'Marital_Status', 'Product_Category_1', 'Product_Category_2', 'Product_Category_3']]"
   ]
  },
  {
   "cell_type": "code",
   "execution_count": 12,
   "id": "8ed34734-9fe5-4fd7-8a59-8166cb3da3d4",
   "metadata": {
    "tags": []
   },
   "outputs": [],
   "source": [
    "def one_hot_encode_columns(df: pd.DataFrame) -> pd.DataFrame:\n",
    "    # Create a copy of the DataFrame to avoid modifying the original\n",
    "    df_encoded = df.copy()\n",
    "\n",
    "    # Instantiate the OneHotEncoder\n",
    "    encoder = OneHotEncoder(sparse=False)\n",
    "\n",
    "    for column in df.columns:\n",
    "        # Fit and transform the current column\n",
    "        encoded_data = encoder.fit_transform(df[[column]])\n",
    "\n",
    "        # Get the feature names for the one-hot encoded columns\n",
    "        feature_names = encoder.get_feature_names_out([column])\n",
    "\n",
    "        # Create a DataFrame from the encoded data with the appropriate column names\n",
    "        df_encoded = pd.concat([df_encoded, pd.DataFrame(encoded_data, columns=feature_names)], axis=1)\n",
    "\n",
    "        # Drop the original column\n",
    "        df_encoded.drop([column], axis=1, inplace=True)\n",
    "\n",
    "    return df_encoded"
   ]
  },
  {
   "cell_type": "code",
   "execution_count": 13,
   "id": "b051e2bc-9215-4da2-a0b6-2fc274b4c0f3",
   "metadata": {
    "tags": []
   },
   "outputs": [],
   "source": [
    "result_of_one_hot_encoding = one_hot_encode_columns(subset_for_one_hot_encoding)"
   ]
  },
  {
   "cell_type": "code",
   "execution_count": 14,
   "id": "8fb576ee-a441-4c10-bc90-a9e3e795b1a9",
   "metadata": {
    "tags": []
   },
   "outputs": [
    {
     "data": {
      "text/plain": [
       "(547517, 77)"
      ]
     },
     "execution_count": 14,
     "metadata": {},
     "output_type": "execute_result"
    }
   ],
   "source": [
    "result_of_one_hot_encoding.shape"
   ]
  },
  {
   "cell_type": "code",
   "execution_count": 15,
   "id": "9de325fd-8198-43cb-a802-504cca4c5f91",
   "metadata": {
    "tags": []
   },
   "outputs": [],
   "source": [
    "subset_for_label_encoding = df[['Age', 'City_Category', 'Stay_In_Current_City_Years']]"
   ]
  },
  {
   "cell_type": "code",
   "execution_count": 16,
   "id": "4ed9df46-ce03-4b66-9412-43a331d9960e",
   "metadata": {},
   "outputs": [],
   "source": [
    "def label_encode_columns(df):\n",
    "    \"\"\"\n",
    "    Label encodes all categorical columns in a DataFrame and replaces the original columns.\n",
    "\n",
    "    Parameters:\n",
    "    - df (pd.DataFrame): Input DataFrame.\n",
    "\n",
    "    Returns:\n",
    "    - pd.DataFrame: DataFrame with categorical columns replaced by their label encoded representations.\n",
    "    \"\"\"\n",
    "    # Create a copy of the DataFrame to avoid modifying the original\n",
    "    df_encoded = df.copy()\n",
    "\n",
    "    # Instantiate the LabelEncoder\n",
    "    encoder = LabelEncoder()\n",
    "\n",
    "    for column in df.columns:\n",
    "        # Fit and transform the current column\n",
    "        encoded_data = encoder.fit_transform(df[column])\n",
    "\n",
    "        # Create a new column with the label encoded data\n",
    "        df_encoded[column + '_encoded'] = encoded_data\n",
    "\n",
    "        # Drop the original column\n",
    "        df_encoded.drop([column], axis=1, inplace=True)\n",
    "\n",
    "    return df_encoded"
   ]
  },
  {
   "cell_type": "code",
   "execution_count": 17,
   "id": "6c71f75e-1878-4c70-bc18-dba92d3cdd01",
   "metadata": {
    "tags": []
   },
   "outputs": [],
   "source": [
    "result_of_label_encoding = label_encode_columns(subset_for_label_encoding)"
   ]
  },
  {
   "cell_type": "code",
   "execution_count": 18,
   "id": "54c4648f-f9e4-4938-b31e-c313d306b5a9",
   "metadata": {},
   "outputs": [
    {
     "data": {
      "text/plain": [
       "(547517, 3)"
      ]
     },
     "execution_count": 18,
     "metadata": {},
     "output_type": "execute_result"
    }
   ],
   "source": [
    "result_of_label_encoding.shape"
   ]
  },
  {
   "cell_type": "code",
   "execution_count": 19,
   "id": "d93ae1e7-9c30-46de-8c8b-ba3b3c6bb662",
   "metadata": {
    "tags": []
   },
   "outputs": [
    {
     "data": {
      "text/plain": [
       "Gender_Female            float64\n",
       "Gender_Male              float64\n",
       "Occupation_1             float64\n",
       "Occupation_2             float64\n",
       "Occupation_3             float64\n",
       "                          ...   \n",
       "Product_Category_3_11    float64\n",
       "Product_Category_3_12    float64\n",
       "Product_Category_3_13    float64\n",
       "Product_Category_3_14    float64\n",
       "Product_Category_3_15    float64\n",
       "Length: 77, dtype: object"
      ]
     },
     "execution_count": 19,
     "metadata": {},
     "output_type": "execute_result"
    }
   ],
   "source": [
    "result_of_one_hot_encoding.dtypes"
   ]
  },
  {
   "cell_type": "code",
   "execution_count": 20,
   "id": "49b182ff-d8ef-4b90-8bb7-341ef410e884",
   "metadata": {},
   "outputs": [],
   "source": [
    "dataset = pd.concat([result_of_one_hot_encoding, result_of_label_encoding, df['Purchase']], axis=1)"
   ]
  },
  {
   "cell_type": "code",
   "execution_count": 21,
   "id": "7fcf1fa1-8432-415f-a88b-529554639e4f",
   "metadata": {
    "tags": []
   },
   "outputs": [],
   "source": [
    "dataset.to_csv('./data/black_friday_dataset_encoded.csv', index=False)"
   ]
  },
  {
   "cell_type": "code",
   "execution_count": 22,
   "id": "957d74d3-cd2c-4667-a835-7be640f4744e",
   "metadata": {},
   "outputs": [],
   "source": [
    "# ---------------------------\n",
    "# Implement Linear Regression"
   ]
  },
  {
   "cell_type": "code",
   "execution_count": 23,
   "id": "910dcee7-183b-48a1-a338-c12d6e53f36d",
   "metadata": {},
   "outputs": [],
   "source": [
    "import pandas as pd\n",
    "from sklearn.model_selection import train_test_split\n",
    "from sklearn.ensemble import RandomForestRegressor\n",
    "from sklearn.metrics import mean_squared_error\n",
    "from sklearn.linear_model import LinearRegression\n",
    "from sklearn.metrics import mean_squared_error, r2_score\n",
    "from math import sqrt"
   ]
  },
  {
   "cell_type": "code",
   "execution_count": 24,
   "id": "383e26c4-0554-4e10-aff0-c255b85b0770",
   "metadata": {
    "tags": []
   },
   "outputs": [],
   "source": [
    "ml_dataset = pd.read_csv('./data/black_friday_dataset_encoded.csv')"
   ]
  },
  {
   "cell_type": "code",
   "execution_count": 25,
   "id": "58a35b72-e442-4dad-bee3-5bbab6b3b1fa",
   "metadata": {
    "tags": []
   },
   "outputs": [
    {
     "data": {
      "text/html": [
       "<div>\n",
       "<style scoped>\n",
       "    .dataframe tbody tr th:only-of-type {\n",
       "        vertical-align: middle;\n",
       "    }\n",
       "\n",
       "    .dataframe tbody tr th {\n",
       "        vertical-align: top;\n",
       "    }\n",
       "\n",
       "    .dataframe thead th {\n",
       "        text-align: right;\n",
       "    }\n",
       "</style>\n",
       "<table border=\"1\" class=\"dataframe\">\n",
       "  <thead>\n",
       "    <tr style=\"text-align: right;\">\n",
       "      <th></th>\n",
       "      <th>Gender_Female</th>\n",
       "      <th>Gender_Male</th>\n",
       "      <th>Occupation_1</th>\n",
       "      <th>Occupation_2</th>\n",
       "      <th>Occupation_3</th>\n",
       "      <th>Occupation_4</th>\n",
       "      <th>Occupation_5</th>\n",
       "      <th>Occupation_6</th>\n",
       "      <th>Occupation_7</th>\n",
       "      <th>Occupation_8</th>\n",
       "      <th>...</th>\n",
       "      <th>Product_Category_3_10</th>\n",
       "      <th>Product_Category_3_11</th>\n",
       "      <th>Product_Category_3_12</th>\n",
       "      <th>Product_Category_3_13</th>\n",
       "      <th>Product_Category_3_14</th>\n",
       "      <th>Product_Category_3_15</th>\n",
       "      <th>Age_encoded</th>\n",
       "      <th>City_Category_encoded</th>\n",
       "      <th>Stay_In_Current_City_Years_encoded</th>\n",
       "      <th>Purchase</th>\n",
       "    </tr>\n",
       "  </thead>\n",
       "  <tbody>\n",
       "    <tr>\n",
       "      <th>0</th>\n",
       "      <td>1.0</td>\n",
       "      <td>0.0</td>\n",
       "      <td>0.0</td>\n",
       "      <td>0.0</td>\n",
       "      <td>0.0</td>\n",
       "      <td>0.0</td>\n",
       "      <td>0.0</td>\n",
       "      <td>0.0</td>\n",
       "      <td>0.0</td>\n",
       "      <td>0.0</td>\n",
       "      <td>...</td>\n",
       "      <td>0.0</td>\n",
       "      <td>0.0</td>\n",
       "      <td>0.0</td>\n",
       "      <td>0.0</td>\n",
       "      <td>0.0</td>\n",
       "      <td>1.0</td>\n",
       "      <td>0</td>\n",
       "      <td>0</td>\n",
       "      <td>2</td>\n",
       "      <td>8370</td>\n",
       "    </tr>\n",
       "    <tr>\n",
       "      <th>1</th>\n",
       "      <td>1.0</td>\n",
       "      <td>0.0</td>\n",
       "      <td>0.0</td>\n",
       "      <td>0.0</td>\n",
       "      <td>0.0</td>\n",
       "      <td>0.0</td>\n",
       "      <td>0.0</td>\n",
       "      <td>0.0</td>\n",
       "      <td>0.0</td>\n",
       "      <td>0.0</td>\n",
       "      <td>...</td>\n",
       "      <td>0.0</td>\n",
       "      <td>1.0</td>\n",
       "      <td>0.0</td>\n",
       "      <td>0.0</td>\n",
       "      <td>0.0</td>\n",
       "      <td>0.0</td>\n",
       "      <td>0</td>\n",
       "      <td>0</td>\n",
       "      <td>2</td>\n",
       "      <td>15200</td>\n",
       "    </tr>\n",
       "    <tr>\n",
       "      <th>2</th>\n",
       "      <td>1.0</td>\n",
       "      <td>0.0</td>\n",
       "      <td>0.0</td>\n",
       "      <td>0.0</td>\n",
       "      <td>0.0</td>\n",
       "      <td>0.0</td>\n",
       "      <td>0.0</td>\n",
       "      <td>0.0</td>\n",
       "      <td>0.0</td>\n",
       "      <td>0.0</td>\n",
       "      <td>...</td>\n",
       "      <td>0.0</td>\n",
       "      <td>0.0</td>\n",
       "      <td>0.0</td>\n",
       "      <td>0.0</td>\n",
       "      <td>0.0</td>\n",
       "      <td>0.0</td>\n",
       "      <td>0</td>\n",
       "      <td>0</td>\n",
       "      <td>2</td>\n",
       "      <td>1422</td>\n",
       "    </tr>\n",
       "    <tr>\n",
       "      <th>3</th>\n",
       "      <td>1.0</td>\n",
       "      <td>0.0</td>\n",
       "      <td>0.0</td>\n",
       "      <td>0.0</td>\n",
       "      <td>0.0</td>\n",
       "      <td>0.0</td>\n",
       "      <td>0.0</td>\n",
       "      <td>0.0</td>\n",
       "      <td>0.0</td>\n",
       "      <td>0.0</td>\n",
       "      <td>...</td>\n",
       "      <td>0.0</td>\n",
       "      <td>0.0</td>\n",
       "      <td>0.0</td>\n",
       "      <td>0.0</td>\n",
       "      <td>0.0</td>\n",
       "      <td>0.0</td>\n",
       "      <td>0</td>\n",
       "      <td>0</td>\n",
       "      <td>2</td>\n",
       "      <td>1057</td>\n",
       "    </tr>\n",
       "    <tr>\n",
       "      <th>4</th>\n",
       "      <td>0.0</td>\n",
       "      <td>1.0</td>\n",
       "      <td>0.0</td>\n",
       "      <td>0.0</td>\n",
       "      <td>0.0</td>\n",
       "      <td>0.0</td>\n",
       "      <td>0.0</td>\n",
       "      <td>0.0</td>\n",
       "      <td>0.0</td>\n",
       "      <td>0.0</td>\n",
       "      <td>...</td>\n",
       "      <td>0.0</td>\n",
       "      <td>0.0</td>\n",
       "      <td>0.0</td>\n",
       "      <td>0.0</td>\n",
       "      <td>0.0</td>\n",
       "      <td>0.0</td>\n",
       "      <td>6</td>\n",
       "      <td>2</td>\n",
       "      <td>4</td>\n",
       "      <td>7969</td>\n",
       "    </tr>\n",
       "  </tbody>\n",
       "</table>\n",
       "<p>5 rows × 81 columns</p>\n",
       "</div>"
      ],
      "text/plain": [
       "   Gender_Female  Gender_Male  Occupation_1  Occupation_2  Occupation_3  \\\n",
       "0            1.0          0.0           0.0           0.0           0.0   \n",
       "1            1.0          0.0           0.0           0.0           0.0   \n",
       "2            1.0          0.0           0.0           0.0           0.0   \n",
       "3            1.0          0.0           0.0           0.0           0.0   \n",
       "4            0.0          1.0           0.0           0.0           0.0   \n",
       "\n",
       "   Occupation_4  Occupation_5  Occupation_6  Occupation_7  Occupation_8  ...  \\\n",
       "0           0.0           0.0           0.0           0.0           0.0  ...   \n",
       "1           0.0           0.0           0.0           0.0           0.0  ...   \n",
       "2           0.0           0.0           0.0           0.0           0.0  ...   \n",
       "3           0.0           0.0           0.0           0.0           0.0  ...   \n",
       "4           0.0           0.0           0.0           0.0           0.0  ...   \n",
       "\n",
       "   Product_Category_3_10  Product_Category_3_11  Product_Category_3_12  \\\n",
       "0                    0.0                    0.0                    0.0   \n",
       "1                    0.0                    1.0                    0.0   \n",
       "2                    0.0                    0.0                    0.0   \n",
       "3                    0.0                    0.0                    0.0   \n",
       "4                    0.0                    0.0                    0.0   \n",
       "\n",
       "   Product_Category_3_13  Product_Category_3_14  Product_Category_3_15  \\\n",
       "0                    0.0                    0.0                    1.0   \n",
       "1                    0.0                    0.0                    0.0   \n",
       "2                    0.0                    0.0                    0.0   \n",
       "3                    0.0                    0.0                    0.0   \n",
       "4                    0.0                    0.0                    0.0   \n",
       "\n",
       "   Age_encoded  City_Category_encoded  Stay_In_Current_City_Years_encoded  \\\n",
       "0            0                      0                                   2   \n",
       "1            0                      0                                   2   \n",
       "2            0                      0                                   2   \n",
       "3            0                      0                                   2   \n",
       "4            6                      2                                   4   \n",
       "\n",
       "   Purchase  \n",
       "0      8370  \n",
       "1     15200  \n",
       "2      1422  \n",
       "3      1057  \n",
       "4      7969  \n",
       "\n",
       "[5 rows x 81 columns]"
      ]
     },
     "execution_count": 25,
     "metadata": {},
     "output_type": "execute_result"
    }
   ],
   "source": [
    "ml_dataset.head()"
   ]
  },
  {
   "cell_type": "code",
   "execution_count": 26,
   "id": "6c2403a7-18d9-4fc2-861f-fa2fe7544298",
   "metadata": {
    "tags": []
   },
   "outputs": [
    {
     "name": "stdout",
     "output_type": "stream",
     "text": [
      "Root Mean Squared Error (RMSE): 2971.157090973691\n",
      "R-squared (R2): 0.6388079560357095\n"
     ]
    }
   ],
   "source": [
    "# ============================================\n",
    "# LINEAR REGRESSION WITHOUT LOG TRANSFORMATION\n",
    "\n",
    "# Separate features (X) and target variable (y)\n",
    "X = ml_dataset.drop('Purchase', axis=1)\n",
    "y = ml_dataset['Purchase']\n",
    "\n",
    "# Split the data into training and testing sets\n",
    "X_train, X_test, y_train, y_test = train_test_split(X, y, test_size=0.25, random_state=42)\n",
    "\n",
    "# Instantiate the Linear Regression model\n",
    "model = LinearRegression()\n",
    "\n",
    "# Train the model on the training set\n",
    "model.fit(X_train, y_train)\n",
    "\n",
    "# Make predictions on the test set\n",
    "y_pred = model.predict(X_test)\n",
    "\n",
    "# Evaluate the model\n",
    "rmse = sqrt(mean_squared_error(y_test, y_pred))\n",
    "r2 = r2_score(y_test, y_pred)\n",
    "\n",
    "print(f'Root Mean Squared Error (RMSE): {rmse}')\n",
    "print(f'R-squared (R2): {r2}')"
   ]
  },
  {
   "cell_type": "code",
   "execution_count": 27,
   "id": "c1a7ca75-758a-488c-a632-34f1b31923f2",
   "metadata": {
    "tags": []
   },
   "outputs": [
    {
     "name": "stdout",
     "output_type": "stream",
     "text": [
      "Root Mean Squared Error (RMSE): 0.3776450885289551\n",
      "R-squared (R2): 0.7389139509070972\n"
     ]
    }
   ],
   "source": [
    "# =========================================\n",
    "# LINEAR REGRESSION WITH LOG TRANSFORMATION\n",
    "\n",
    "# Apply log transformation to 'Purchase'\n",
    "ml_dataset['Purchase_log'] = np.log1p(ml_dataset['Purchase'])\n",
    "\n",
    "# Separate features (X) and target variable (y)\n",
    "X = ml_dataset.drop(['Purchase', 'Purchase_log'], axis=1)\n",
    "y = ml_dataset['Purchase_log']\n",
    "\n",
    "# Split the data into training and testing sets\n",
    "X_train, X_test, y_train, y_test = train_test_split(X, y, test_size=0.25, random_state=42)\n",
    "\n",
    "# Instantiate the Linear Regression model\n",
    "model = LinearRegression()\n",
    "\n",
    "# Train the model on the training set\n",
    "model.fit(X_train, y_train)\n",
    "\n",
    "# Make predictions on the test set\n",
    "y_pred = model.predict(X_test)\n",
    "\n",
    "# Evaluate the model\n",
    "rmse = sqrt(mean_squared_error(y_test, y_pred))\n",
    "r2 = r2_score(y_test, y_pred)\n",
    "\n",
    "print(f'Root Mean Squared Error (RMSE): {rmse}')\n",
    "print(f'R-squared (R2): {r2}')"
   ]
  },
  {
   "cell_type": "code",
   "execution_count": 28,
   "id": "ea915962-8e66-49cf-a901-8f9f6266e3a2",
   "metadata": {
    "tags": []
   },
   "outputs": [],
   "source": [
    "ml_dataset = pd.read_csv('./data/black_friday_dataset_encoded.csv')"
   ]
  },
  {
   "cell_type": "code",
   "execution_count": 29,
   "id": "4a048246-42af-4ea9-86f8-166479127a5d",
   "metadata": {},
   "outputs": [
    {
     "name": "stdout",
     "output_type": "stream",
     "text": [
      "Root Mean Squared Error (RMSE): 3095.5742863149735\n",
      "R-squared (R2): 0.7389139509070972\n"
     ]
    }
   ],
   "source": [
    "# =============================================\n",
    "# RANDOMFORESTREGRESSOR WITHOUT FEATURE SCALING\n",
    "\n",
    "# Separate features (X) and target variable (y)\n",
    "X = ml_dataset.drop('Purchase', axis=1)\n",
    "y = ml_dataset['Purchase']\n",
    "\n",
    "# Split the data into training and testing sets\n",
    "X_train, X_test, y_train, y_test = train_test_split(X, y, test_size=0.25, random_state=42)\n",
    "\n",
    "# Instantiate the RandomForestRegressor model\n",
    "model = RandomForestRegressor(n_estimators=100, random_state=42)\n",
    "\n",
    "# Train the model on the training set\n",
    "model.fit(X_train, y_train)\n",
    "\n",
    "# Make predictions on the test set\n",
    "y_pred = model.predict(X_test)\n",
    "\n",
    "# Evaluate the model\n",
    "rmse = sqrt(mean_squared_error(y_test, y_pred))\n",
    "print(f'Root Mean Squared Error (RMSE): {rmse}')\n",
    "print(f'R-squared (R2): {r2}')\n",
    "\n",
    "# Now, you can use the trained model to make predictions on new data\n",
    "# For example, if you have a new_data DataFrame with the same columns as X (excluding 'Purchase'):\n",
    "# new_predictions = model.predict(new_data)"
   ]
  },
  {
   "cell_type": "code",
   "execution_count": 30,
   "id": "a5dd6b69-2aee-4582-bc87-1989def42fb4",
   "metadata": {},
   "outputs": [
    {
     "name": "stdout",
     "output_type": "stream",
     "text": [
      "Root Mean Squared Error (RMSE): 0.3959826145659063\n",
      "R-squared (R2): 0.7389139509070972\n"
     ]
    }
   ],
   "source": [
    "# ==========================================\n",
    "# RANDOMFORESTREGRESSOR WITH FEATURE SCALING\n",
    "\n",
    "# Apply log transformation to 'Purchase'\n",
    "ml_dataset['Purchase_log'] = np.log1p(ml_dataset['Purchase'])\n",
    "\n",
    "# Separate features (X) and target variable (y)\n",
    "X = ml_dataset.drop(['Purchase', 'Purchase_log'], axis=1)\n",
    "y = ml_dataset['Purchase_log']\n",
    "\n",
    "# Split the data into training and testing sets\n",
    "X_train, X_test, y_train, y_test = train_test_split(X, y, test_size=0.25, random_state=42)\n",
    "\n",
    "# Instantiate the RandomForestRegressor model\n",
    "model = RandomForestRegressor(n_estimators=100, random_state=42)\n",
    "\n",
    "# Train the model on the training set\n",
    "model.fit(X_train, y_train)\n",
    "\n",
    "# Make predictions on the test set\n",
    "y_pred = model.predict(X_test)\n",
    "\n",
    "# Evaluate the model\n",
    "rmse = sqrt(mean_squared_error(y_test, y_pred))\n",
    "print(f'Root Mean Squared Error (RMSE): {rmse}')\n",
    "print(f'R-squared (R2): {r2}')\n",
    "\n",
    "# Now, you can use the trained model to make predictions on new data\n",
    "# For example, if you have a new_data DataFrame with the same columns as X (excluding 'Purchase'):\n",
    "# new_predictions = model.predict(new_data)"
   ]
  },
  {
   "cell_type": "code",
   "execution_count": null,
   "id": "bab9550c-f150-4f22-93b7-050da0a55104",
   "metadata": {},
   "outputs": [],
   "source": []
  },
  {
   "cell_type": "code",
   "execution_count": null,
   "id": "3de371f9-64a3-4394-9355-5f527646ec69",
   "metadata": {},
   "outputs": [],
   "source": []
  },
  {
   "cell_type": "code",
   "execution_count": null,
   "id": "c0680f65-39db-459f-a1ad-566f82c8202e",
   "metadata": {},
   "outputs": [],
   "source": []
  },
  {
   "cell_type": "code",
   "execution_count": null,
   "id": "a494dbe4-9f60-49ac-8898-b6fefa323eec",
   "metadata": {},
   "outputs": [],
   "source": []
  },
  {
   "cell_type": "code",
   "execution_count": null,
   "id": "0adc170b-63a2-4932-ab20-ebafddea25c5",
   "metadata": {},
   "outputs": [],
   "source": []
  },
  {
   "cell_type": "code",
   "execution_count": null,
   "id": "9bfdba91-acce-4816-82ef-8ff42ade62f4",
   "metadata": {},
   "outputs": [],
   "source": []
  }
 ],
 "metadata": {
  "kernelspec": {
   "display_name": "Python 3 (ipykernel)",
   "language": "python",
   "name": "python3"
  },
  "language_info": {
   "codemirror_mode": {
    "name": "ipython",
    "version": 3
   },
   "file_extension": ".py",
   "mimetype": "text/x-python",
   "name": "python",
   "nbconvert_exporter": "python",
   "pygments_lexer": "ipython3",
   "version": "3.11.4"
  }
 },
 "nbformat": 4,
 "nbformat_minor": 5
}
